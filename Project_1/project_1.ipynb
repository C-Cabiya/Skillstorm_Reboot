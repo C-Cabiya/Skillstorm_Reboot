{
 "cells": [
  {
   "cell_type": "markdown",
   "metadata": {},
   "source": [
    "# PROJECT ONE: Data Analysis\n",
    "### Cecilia Cabiya"
   ]
  },
  {
   "cell_type": "code",
   "execution_count": 2,
   "metadata": {},
   "outputs": [],
   "source": [
    "from dotenv import load_dotenv\n",
    "import os\n",
    "import requests\n",
    "import json\n",
    "import datetime\n",
    "import time\n",
    "import pandas as pd\n",
    "\n",
    "load_dotenv()\n",
    "\n",
    "polygon_key = os.environ['polygon_key']\n",
    "server_name = os.environ['server_name']\n",
    "\n",
    "base_auth_url= 'https://api.polygon.io/'\n",
    "# Sample URL for aggregations over a given time period \n",
    "agg_url_sample = r'/v2/aggs/ticker/{stocksTicker}/range/{multiplier}/{timespan}/{from}/{to}'\n",
    "# Sample URL for Grouped daily \n",
    "day_url_sample = r'/v2/aggs/grouped/locale/us/market/stocks/{date}'"
   ]
  },
  {
   "cell_type": "markdown",
   "metadata": {},
   "source": [
    "### RETRIEVING STOCK DATA"
   ]
  },
  {
   "cell_type": "code",
   "execution_count": 43,
   "metadata": {},
   "outputs": [],
   "source": [
    "stocks = {\n",
    "    'AMZN':'Amazon.com Inc',\n",
    "    'TSLA':'Tesla Inc',\n",
    "    'BIP':'Brookfield Infrastructure Partners L.P.',\n",
    "    'NFLX':'Netflix Inc',\n",
    "    'VTI': 'Vanguard Total Stock Market ETF',\n",
    "    'VYM': 'Vanguard High Dividend Yield ETF' # One of the ETFs\n",
    "}\n"
   ]
  },
  {
   "cell_type": "code",
   "execution_count": 44,
   "metadata": {},
   "outputs": [],
   "source": [
    "# Run every time for every stock\n",
    "stock = 'VYM' # The stock you want\n",
    "start_date = datetime.date(2023,1,1)\n",
    "end_date = datetime.date(2024,7,1)"
   ]
  },
  {
   "cell_type": "code",
   "execution_count": null,
   "metadata": {},
   "outputs": [],
   "source": [
    "# Run every time for every stock\n",
    "agg_url_ext = f'v2/aggs/ticker/{stock}/range/1/day/{start_date}/{end_date}'\n",
    "\n",
    "params = {\"apiKey\": polygon_key}\n",
    "\n",
    "full_url = base_auth_url+agg_url_ext\n",
    "response = (requests.get(full_url, params = params)).json()\n",
    "\n",
    "try:\n",
    "    results = response['results']\n",
    "except:\n",
    "    print(response)\n",
    "\n",
    "for i, res in enumerate(results):\n",
    "    timems = results[i]['t']\n",
    "    dt = datetime.date.fromtimestamp((timems/1000.0))\n",
    "    res['date'] = dt.strftime('%Y-%m-%d')\n",
    "    res['stock'] = stock\n",
    "    res['stock_company'] = stocks[stock]\n",
    "\n",
    "df = pd.DataFrame.from_records(results)\n",
    "df.head()"
   ]
  },
  {
   "cell_type": "code",
   "execution_count": 13,
   "metadata": {},
   "outputs": [],
   "source": [
    "# Run every time for every stock\n",
    "# Renaming the dataframe's columns\n",
    "df.rename(columns={'v': 'volume', 'vw': 'volume_weighted',\n",
    "                   't': 'timestamp', 'o': 'open_price',\n",
    "                   'n': 'transactions', 'c': 'close_price'\n",
    "                   , 'h': 'highest_price'\n",
    "                   , 'l': 'lowest_price'}, inplace=True)\n",
    "\n",
    "# Dropping timestamp, as we already have date\n",
    "df.drop(columns = ['timestamp'])\n",
    "\n",
    "# Moving around the columns\n",
    "df = df[['stock', 'stock_company','date','open_price','close_price','highest_price',\n",
    "    'lowest_price','transactions','volume','volume_weighted']]"
   ]
  },
  {
   "cell_type": "code",
   "execution_count": 3,
   "metadata": {},
   "outputs": [],
   "source": [
    "# Run every time for safety\n",
    "import pymssql\n",
    "\n",
    "conn = pymssql.connect(server=server_name)\n",
    "\n",
    "# Create a cursor to run queries\n",
    "cursor = conn.cursor()"
   ]
  },
  {
   "cell_type": "code",
   "execution_count": 4,
   "metadata": {},
   "outputs": [],
   "source": [
    "# Run every time for safety\n",
    "cursor.execute(\"USE stock_project\")"
   ]
  },
  {
   "cell_type": "code",
   "execution_count": null,
   "metadata": {},
   "outputs": [],
   "source": [
    "# Run only once RAN\n",
    "cursor.execute(\"\"\"CREATE TABLE stocks_table(\n",
    "               stock_id int PRIMARY KEY IDENTITY,\n",
    "               stock VARCHAR(10),\n",
    "               company_name VARCHAR(200)\n",
    "               );\"\"\")\n",
    "\n",
    "cursor.execute(\"\"\"CREATE TABLE dates_table(\n",
    "               date_id int PRIMARY KEY IDENTITY,\n",
    "               dates_date DATETIME,\n",
    "               dates_year INT,\n",
    "               dates_month INT,\n",
    "               dates_day INT,\n",
    "               );\"\"\")"
   ]
  },
  {
   "cell_type": "code",
   "execution_count": 12,
   "metadata": {},
   "outputs": [],
   "source": [
    "# Only run once RAN\n",
    "# Creating the fact table \n",
    "cursor.execute(\"\"\"CREATE TABLE fact_table(\n",
    "               fact_id int PRIMARY KEY IDENTITY,\n",
    "               fact_stock_id INT FOREIGN KEY REFERENCES stocks_table(stock_id),\n",
    "               fact_date_id INT FOREIGN KEY REFERENCES dates_table(date_id),\n",
    "               open_price INT,\n",
    "               close_price INT,\n",
    "               highest_price INT, \n",
    "               lowest_price INT,\n",
    "               volume INT,\n",
    "               vwap INT,\n",
    "               transactions INT\n",
    "               );\"\"\")"
   ]
  },
  {
   "cell_type": "code",
   "execution_count": 126,
   "metadata": {},
   "outputs": [],
   "source": [
    "# Only adding the dates once, as all stocks will not have unique date data; they're all \n",
    "#   reported on the same days RAN\n",
    "dates = pd.to_datetime(df['date'])\n",
    "years = dates.dt.year\n",
    "months = dates.dt.month\n",
    "days = dates.dt.day\n",
    "\n",
    "\n",
    "date_frame = {\"Date\":dates,\n",
    "              \"Year\": years,\n",
    "              \"Month\": months,\n",
    "              \"Day\": days}\n",
    "date_frame = pd.DataFrame(date_frame)\n",
    "date_frame.head()\n",
    "\n",
    "query = \"\"\"INSERT INTO dates_table\n",
    "           VALUES (%s,%d,%d,%d)\"\"\"\n",
    "\n",
    "cursor.executemany(query, date_frame.values.tolist())"
   ]
  },
  {
   "cell_type": "code",
   "execution_count": 16,
   "metadata": {},
   "outputs": [],
   "source": [
    "# This will be run every time for every stock \n",
    "query = f'''INSERT INTO stocks_table\n",
    "           VALUES ('{stock}','{stocks[stock]}')'''\n",
    "cursor.execute(query)"
   ]
  },
  {
   "cell_type": "code",
   "execution_count": 17,
   "metadata": {},
   "outputs": [],
   "source": [
    "# Run every time for every stock\n",
    "df = df[['stock', 'date','open_price','close_price','highest_price',\n",
    "    'lowest_price','volume','volume_weighted','transactions']]\n",
    "query = \"\"\"INSERT INTO fact_table (fact_stock_id, fact_date_id,\n",
    "                                     open_price, close_price, highest_price, lowest_price,\n",
    "                                     volume, vwap, transactions)\n",
    "           VALUES (\n",
    "                (SELECT stock_id FROM stocks_table\n",
    "                WHERE stock = %s),\n",
    "                (SELECT date_id FROM dates_table\n",
    "                WHERE FORMAT(dates_date, 'yyyy-MM-dd') = %s),\n",
    "                %d,\n",
    "                %d,\n",
    "                %d,\n",
    "                %d,\n",
    "                %d,\n",
    "                %d,\n",
    "                %d\n",
    "                );\"\"\"\n",
    "\n",
    "cursor.executemany(query, df.values.tolist())"
   ]
  },
  {
   "cell_type": "code",
   "execution_count": null,
   "metadata": {},
   "outputs": [],
   "source": [
    "# Run every time for every stock\n",
    "conn.commit()"
   ]
  },
  {
   "cell_type": "markdown",
   "metadata": {},
   "source": [
    "### RETRIEVING FOREX DATA"
   ]
  },
  {
   "cell_type": "code",
   "execution_count": 176,
   "metadata": {},
   "outputs": [],
   "source": [
    "# On forex\n",
    "# A minor note; due to the fact that Europe and US have different timezones, beginning at \n",
    "#   a start date will make the day before the start date as a beginning\n",
    "currencies = 'C:EURUSD' # The foreign conversion\n",
    "start_date = datetime.date(2023,1,2)\n",
    "end_date = datetime.date(2024,7,1)\n",
    "\n",
    "base_auth_url= 'https://api.polygon.io/'"
   ]
  },
  {
   "cell_type": "code",
   "execution_count": 177,
   "metadata": {},
   "outputs": [
    {
     "data": {
      "text/html": [
       "<div>\n",
       "<style scoped>\n",
       "    .dataframe tbody tr th:only-of-type {\n",
       "        vertical-align: middle;\n",
       "    }\n",
       "\n",
       "    .dataframe tbody tr th {\n",
       "        vertical-align: top;\n",
       "    }\n",
       "\n",
       "    .dataframe thead th {\n",
       "        text-align: right;\n",
       "    }\n",
       "</style>\n",
       "<table border=\"1\" class=\"dataframe\">\n",
       "  <thead>\n",
       "    <tr style=\"text-align: right;\">\n",
       "      <th></th>\n",
       "      <th>date</th>\n",
       "      <th>volume</th>\n",
       "      <th>volume_weighted</th>\n",
       "      <th>transactions</th>\n",
       "      <th>open_price</th>\n",
       "      <th>close_price</th>\n",
       "      <th>highest_price</th>\n",
       "      <th>lowest_price</th>\n",
       "    </tr>\n",
       "  </thead>\n",
       "  <tbody>\n",
       "    <tr>\n",
       "      <th>0</th>\n",
       "      <td>2023-01-01</td>\n",
       "      <td>74147</td>\n",
       "      <td>1.0676</td>\n",
       "      <td>74147</td>\n",
       "      <td>1.07027</td>\n",
       "      <td>1.06764</td>\n",
       "      <td>1.07100</td>\n",
       "      <td>1.06450</td>\n",
       "    </tr>\n",
       "    <tr>\n",
       "      <th>1</th>\n",
       "      <td>2023-01-02</td>\n",
       "      <td>236637</td>\n",
       "      <td>1.0585</td>\n",
       "      <td>236637</td>\n",
       "      <td>1.06765</td>\n",
       "      <td>1.05450</td>\n",
       "      <td>1.06810</td>\n",
       "      <td>1.05180</td>\n",
       "    </tr>\n",
       "    <tr>\n",
       "      <th>2</th>\n",
       "      <td>2023-01-03</td>\n",
       "      <td>229494</td>\n",
       "      <td>1.0598</td>\n",
       "      <td>229494</td>\n",
       "      <td>1.05453</td>\n",
       "      <td>1.06050</td>\n",
       "      <td>1.06353</td>\n",
       "      <td>1.05440</td>\n",
       "    </tr>\n",
       "    <tr>\n",
       "      <th>3</th>\n",
       "      <td>2023-01-04</td>\n",
       "      <td>210543</td>\n",
       "      <td>1.0574</td>\n",
       "      <td>210543</td>\n",
       "      <td>1.06056</td>\n",
       "      <td>1.05211</td>\n",
       "      <td>1.06320</td>\n",
       "      <td>1.05138</td>\n",
       "    </tr>\n",
       "    <tr>\n",
       "      <th>4</th>\n",
       "      <td>2023-01-05</td>\n",
       "      <td>207800</td>\n",
       "      <td>1.0551</td>\n",
       "      <td>207800</td>\n",
       "      <td>1.05209</td>\n",
       "      <td>1.06610</td>\n",
       "      <td>1.06620</td>\n",
       "      <td>1.04829</td>\n",
       "    </tr>\n",
       "  </tbody>\n",
       "</table>\n",
       "</div>"
      ],
      "text/plain": [
       "         date  volume  volume_weighted  transactions  open_price  close_price  \\\n",
       "0  2023-01-01   74147           1.0676         74147     1.07027      1.06764   \n",
       "1  2023-01-02  236637           1.0585        236637     1.06765      1.05450   \n",
       "2  2023-01-03  229494           1.0598        229494     1.05453      1.06050   \n",
       "3  2023-01-04  210543           1.0574        210543     1.06056      1.05211   \n",
       "4  2023-01-05  207800           1.0551        207800     1.05209      1.06610   \n",
       "\n",
       "   highest_price  lowest_price  \n",
       "0        1.07100       1.06450  \n",
       "1        1.06810       1.05180  \n",
       "2        1.06353       1.05440  \n",
       "3        1.06320       1.05138  \n",
       "4        1.06620       1.04829  "
      ]
     },
     "execution_count": 177,
     "metadata": {},
     "output_type": "execute_result"
    }
   ],
   "source": [
    "# Run every time for every stock\n",
    "forex_url = f'v2/aggs/ticker/{currencies}/range/1/day/{start_date}/{end_date}'\n",
    "\n",
    "params = {\"apiKey\": polygon_key}\n",
    "\n",
    "full_forex_url = base_auth_url+forex_url\n",
    "forex_response = (requests.get(full_forex_url, params = params)).json()\n",
    "\n",
    "try:\n",
    "    forex_results = forex_response['results']\n",
    "except:\n",
    "    print(forex_response)\n",
    "\n",
    "for i, res in enumerate(forex_results):\n",
    "    timems = forex_results[i]['t']\n",
    "    dt = datetime.date.fromtimestamp((timems/1000.0))\n",
    "    res['date'] = dt.strftime('%Y-%m-%d')\n",
    "\n",
    "df = pd.DataFrame.from_records(forex_results)\n",
    "\n",
    "# Renaming the dataframe's columns\n",
    "df.rename(columns={'v': 'volume', 'vw': 'volume_weighted',\n",
    "                   'o': 'open_price',\n",
    "                   'n': 'transactions', 'c': 'close_price'\n",
    "                   , 'h': 'highest_price'\n",
    "                   , 'l': 'lowest_price'}, inplace=True)\n",
    "\n",
    "# Dropping timestamp (t), as we already have date\n",
    "df.drop(columns = ['t'], inplace=True)\n",
    "\n",
    "# Moving around the columns\n",
    "df = df[['date', 'volume','volume_weighted','transactions','open_price','close_price','highest_price','lowest_price']]\n",
    "\n",
    "df.head()"
   ]
  },
  {
   "cell_type": "code",
   "execution_count": 171,
   "metadata": {},
   "outputs": [],
   "source": [
    "# RUN ONCE RAN\n",
    "\n",
    "cursor.execute('USE stock_project')\n",
    "\n",
    "cursor.execute('''CREATE TABLE forex_table(\n",
    "               forex_date DATETIME,\n",
    "               forex_volume INT,\n",
    "               forex_vwap DECIMAL(18,5),\n",
    "               forex_transactions INT,\n",
    "               forex_open_price DECIMAL(18,5),\n",
    "               forex_close_price DECIMAL(18,5),\n",
    "               forex_highest_price DECIMAL(18,5), \n",
    "               forex_lowest_price DECIMAL(18,5),\n",
    "               forex_diff DECIMAL(18,5),\n",
    "               forex_percent_inc DECIMAL(18,3));''')"
   ]
  },
  {
   "cell_type": "code",
   "execution_count": 179,
   "metadata": {},
   "outputs": [],
   "source": [
    "# RUN ONCE RAN\n",
    "query = '''INSERT INTO forex_table (forex_date, forex_volume, forex_vwap, forex_transactions,\n",
    "              forex_open_price, forex_close_price, forex_highest_price, forex_lowest_price)\n",
    "           VALUES(%s, %d, %d, %d,\n",
    "                  %d, %d, %d, %d)'''\n",
    "\n",
    "cursor.executemany(query, df.values.tolist())"
   ]
  },
  {
   "cell_type": "code",
   "execution_count": 180,
   "metadata": {},
   "outputs": [],
   "source": [
    "# RUN ONCE\n",
    "cursor.execute(\"\"\"UPDATE forex_table \n",
    "               SET forex_diff = forex_open_price - (SELECT TOP 1 forex_open_price \n",
    "                                                    FROM forex_table)\"\"\")\n",
    "cursor.execute(\"\"\"UPDATE forex_table \n",
    "               SET forex_percent_inc = CAST(forex_diff AS DECIMAL(18,2))*100/(\n",
    "                                SELECT TOP 1 forex_open_price \n",
    "                                FROM forex_table)\"\"\")\n"
   ]
  },
  {
   "cell_type": "code",
   "execution_count": null,
   "metadata": {},
   "outputs": [],
   "source": [
    "conn.commit()"
   ]
  },
  {
   "cell_type": "markdown",
   "metadata": {},
   "source": [
    "### MAKING STOCK PRICE INFORMATION SUBTABLES"
   ]
  },
  {
   "cell_type": "code",
   "execution_count": 27,
   "metadata": {},
   "outputs": [],
   "source": [
    "# Make a subtable for every stock and etf\n",
    "cursor.execute('''CREATE TABLE vym_prices_over_time(\n",
    "                vti_id INT PRIMARY KEY IDENTITY, \n",
    "                dates_date DATETIME,\n",
    "                open_price INT,\n",
    "                close_price INT,\n",
    "                highest_price INT, \n",
    "                lowest_price INT, \n",
    "                diff INT,\n",
    "                percen_inc DECIMAL(18,2));''')"
   ]
  },
  {
   "cell_type": "code",
   "execution_count": 31,
   "metadata": {},
   "outputs": [],
   "source": [
    "cursor.execute(\"\"\"INSERT INTO vym_prices_over_time (dates_date, open_price, \n",
    "               close_price, highest_price, lowest_price)\n",
    "               SELECT \n",
    "               dates_date, open_price, close_price, highest_price, lowest_price\n",
    "               FROM fact_table JOIN dates_table ON fact_date_id = date_id\n",
    "               WHERE fact_stock_id = 8\"\"\")"
   ]
  },
  {
   "cell_type": "code",
   "execution_count": 32,
   "metadata": {},
   "outputs": [],
   "source": [
    "cursor.execute(\"\"\"UPDATE vym_prices_over_time \n",
    "               SET diff = open_price - (SELECT TOP 1 open_price FROM vym_prices_over_time)\n",
    "               \"\"\")\n",
    "cursor.execute(\"\"\"UPDATE vym_prices_over_time \n",
    "               SET percen_inc =\n",
    "                (CAST(diff AS  DECIMAL(18,2))*100/(SELECT TOP 1 open_price FROM vym_prices_over_time))\n",
    "               \"\"\")"
   ]
  },
  {
   "cell_type": "code",
   "execution_count": 39,
   "metadata": {},
   "outputs": [],
   "source": [
    "# RUN ONCE RAN\n",
    "cursor.execute('''CREATE TABLE stock_volatility_table(\n",
    "                volatility_id int PRIMARY KEY IDENTITY,\n",
    "                vol_stock_id INT FOREIGN KEY REFERENCES stocks_table(stock_id),\n",
    "                risk_free_rate DECIMAL(10,2),\n",
    "                inflation DECIMAL(10,2),\n",
    "                price_variance DECIMAL(18,2), \n",
    "                return_variance DECIMAL(18,2),\n",
    "                price_stdev DECIMAl(18,2),\n",
    "                return_stdev DECIMAL(18,2),\n",
    "                beta DECIMAL(18,2), \n",
    "                sharpe DECIMAL(18,2));''') "
   ]
  },
  {
   "cell_type": "code",
   "execution_count": 41,
   "metadata": {},
   "outputs": [],
   "source": [
    "# RUN ONCE RAN\n",
    "cursor.execute('''INSERT INTO stock_volatility_table (vol_stock_id,\n",
    "               risk_free_rate, inflation, price_variance, return_variance,\n",
    "               price_stdev, return_stdev, beta)\n",
    "               VALUES( 1,\n",
    "                4.28,\n",
    "                3.2, \n",
    "                (SELECT VAR(open_price) FROM amazon_price_over_time),\n",
    "                (SELECT VAR(diff) FROM amazon_price_over_time),\n",
    "                (SELECT STDEV(open_price) FROM amazon_price_over_time),\n",
    "                (SELECT STDEV(diff) FROM amazon_price_over_time),\n",
    "                1.15\n",
    "               )''')"
   ]
  },
  {
   "cell_type": "code",
   "execution_count": 43,
   "metadata": {},
   "outputs": [],
   "source": [
    "# RUN ONCE RAN\n",
    "cursor.execute(''' UPDATE stock_volatility_table\n",
    "               SET sharpe = ((SELECT TOP 1 diff \n",
    "                            FROM amazon_price_over_time \n",
    "                            ORDER BY dates_date DESC) - risk_free_rate)/(SELECT return_stdev\n",
    "                                                                FROM stock_volatility_table\n",
    "                                                                WHERE vol_stock_id = 1)\n",
    "               WHERE vol_stock_id = 1''')"
   ]
  },
  {
   "cell_type": "code",
   "execution_count": 45,
   "metadata": {},
   "outputs": [],
   "source": [
    "# RUN ONCE RAN\n",
    "cursor.execute('''INSERT INTO stock_volatility_table (vol_stock_id,\n",
    "               risk_free_rate, inflation, price_variance, return_variance,\n",
    "               price_stdev, return_stdev, beta)\n",
    "               VALUES( 5,\n",
    "                4.28,\n",
    "                3.2, \n",
    "                (SELECT VAR(open_price) FROM bip_price_over_time),\n",
    "                (SELECT VAR(diff) FROM bip_price_over_time),\n",
    "                (SELECT STDEV(open_price) FROM bip_price_over_time),\n",
    "                (SELECT STDEV(diff) FROM bip_price_over_time),\n",
    "                1.03\n",
    "               )''')\n",
    "\n",
    "cursor.execute(''' UPDATE stock_volatility_table\n",
    "               SET sharpe = ((SELECT TOP 1 diff \n",
    "                            FROM bip_price_over_time \n",
    "                            ORDER BY dates_date DESC) - risk_free_rate)/(SELECT return_stdev\n",
    "                                                                FROM stock_volatility_table\n",
    "                                                                WHERE vol_stock_id = 5)\n",
    "               WHERE vol_stock_id = 5''')\n",
    "\n",
    "cursor.execute('''INSERT INTO stock_volatility_table (vol_stock_id,\n",
    "               risk_free_rate, inflation, price_variance, return_variance,\n",
    "               price_stdev, return_stdev, beta)\n",
    "               VALUES(6,\n",
    "                4.28,\n",
    "                3.2, \n",
    "                (SELECT VAR(open_price) FROM tesla_price_over_time),\n",
    "                (SELECT VAR(diff) FROM tesla_price_over_time),\n",
    "                (SELECT STDEV(open_price) FROM tesla_price_over_time),\n",
    "                (SELECT STDEV(diff) FROM tesla_price_over_time),\n",
    "                2.33\n",
    "               )''')\n",
    "\n",
    "cursor.execute(''' UPDATE stock_volatility_table\n",
    "               SET sharpe = ((SELECT TOP 1 diff \n",
    "                            FROM tesla_price_over_time \n",
    "                            ORDER BY dates_date DESC) - risk_free_rate)/(SELECT return_stdev\n",
    "                                                                FROM stock_volatility_table\n",
    "                                                                WHERE vol_stock_id = 6)\n",
    "               WHERE vol_stock_id = 6''')\n",
    "\n",
    "cursor.execute('''INSERT INTO stock_volatility_table (vol_stock_id,\n",
    "               risk_free_rate, inflation, price_variance, return_variance,\n",
    "               price_stdev, return_stdev, beta)\n",
    "               VALUES(4,\n",
    "                4.28,\n",
    "                3.2, \n",
    "                (SELECT VAR(open_price) FROM netflix_price_over_time),\n",
    "                (SELECT VAR(diff) FROM netflix_price_over_time),\n",
    "                (SELECT STDEV(open_price) FROM netflix_price_over_time),\n",
    "                (SELECT STDEV(diff) FROM netflix_price_over_time),\n",
    "                1.27\n",
    "               )''')\n",
    "\n",
    "cursor.execute(''' UPDATE stock_volatility_table\n",
    "               SET sharpe = ((SELECT TOP 1 diff \n",
    "                            FROM netflix_price_over_time \n",
    "                            ORDER BY dates_date DESC) - risk_free_rate)/(SELECT return_stdev\n",
    "                                                                FROM stock_volatility_table\n",
    "                                                                WHERE vol_stock_id = 4)\n",
    "               WHERE vol_stock_id = 4''')"
   ]
  },
  {
   "cell_type": "code",
   "execution_count": 48,
   "metadata": {},
   "outputs": [],
   "source": [
    "cursor.execute('''INSERT INTO stock_volatility_table (vol_stock_id,\n",
    "               risk_free_rate, inflation, price_variance, return_variance,\n",
    "               price_stdev, return_stdev, beta)\n",
    "               VALUES(7,\n",
    "                4.28,\n",
    "                3.2, \n",
    "                (SELECT VAR(open_price) FROM vti_prices_over_time),\n",
    "                (SELECT VAR(diff) FROM vti_prices_over_time),\n",
    "                (SELECT STDEV(open_price) FROM vti_prices_over_time),\n",
    "                (SELECT STDEV(diff) FROM vti_prices_over_time),\n",
    "                1.01\n",
    "               )''')\n",
    "\n",
    "cursor.execute(''' UPDATE stock_volatility_table\n",
    "               SET sharpe = ((SELECT TOP 1 diff \n",
    "                            FROM vti_prices_over_time \n",
    "                            ORDER BY dates_date DESC) - risk_free_rate)/(SELECT return_stdev\n",
    "                                                                FROM stock_volatility_table\n",
    "                                                                WHERE vol_stock_id = 7)\n",
    "               WHERE vol_stock_id = 7''')\n",
    "\n",
    "cursor.execute('''INSERT INTO stock_volatility_table (vol_stock_id,\n",
    "               risk_free_rate, inflation, price_variance, return_variance,\n",
    "               price_stdev, return_stdev, beta)\n",
    "               VALUES(8,\n",
    "                4.28,\n",
    "                3.2, \n",
    "                (SELECT VAR(open_price) FROM vym_prices_over_time),\n",
    "                (SELECT VAR(diff) FROM vym_prices_over_time),\n",
    "                (SELECT STDEV(open_price) FROM vym_prices_over_time),\n",
    "                (SELECT STDEV(diff) FROM vym_prices_over_time),\n",
    "                .76\n",
    "               )''')\n",
    "\n",
    "cursor.execute(''' UPDATE stock_volatility_table\n",
    "               SET sharpe = ((SELECT TOP 1 diff \n",
    "                            FROM vym_prices_over_time \n",
    "                            ORDER BY dates_date DESC) - risk_free_rate)/(SELECT return_stdev\n",
    "                                                                FROM stock_volatility_table\n",
    "                                                                WHERE vol_stock_id = 8)\n",
    "               WHERE vol_stock_id = 8''')"
   ]
  },
  {
   "cell_type": "code",
   "execution_count": null,
   "metadata": {},
   "outputs": [],
   "source": [
    "cursor.execute('SELECT  * from stock_volatility_table')\n",
    "rows = cursor.fetchall()\n",
    "[print(row) for row in rows]"
   ]
  },
  {
   "cell_type": "markdown",
   "metadata": {},
   "source": [
    "### POPULATING THE INDECES DATA"
   ]
  },
  {
   "cell_type": "code",
   "execution_count": 105,
   "metadata": {},
   "outputs": [],
   "source": [
    "indices = {\n",
    "    'NDXT':'NASDAQ-100 Technology Sector',\n",
    "    'NDX':'Nasdaq-100'\n",
    "}\n",
    "index_marker = 'NDXT'"
   ]
  },
  {
   "cell_type": "code",
   "execution_count": null,
   "metadata": {},
   "outputs": [],
   "source": [
    "# For indices, not stocks\n",
    "\n",
    "index_url_ext = f'v2/aggs/ticker/I:{index_marker}/range/1/day/{start_date}/{end_date}'\n",
    "params = {\"apiKey\": polygon_key}\n",
    "full_ind_url = base_auth_url + index_url_ext\n",
    "index_response = (requests.get(full_ind_url, params = params)).json()\n",
    "\n",
    "index_response"
   ]
  },
  {
   "cell_type": "code",
   "execution_count": null,
   "metadata": {},
   "outputs": [],
   "source": [
    "# Run once for each index\n",
    "try:\n",
    "    ind_results = index_response['results']\n",
    "except:\n",
    "    print(index_response)\n",
    "\n",
    "for i, res in enumerate(ind_results):\n",
    "    timems = ind_results[i]['t']\n",
    "    dt = datetime.date.fromtimestamp((timems/1000.0))\n",
    "    res['date'] = dt.strftime('%Y-%m-%d')\n",
    "    res['index_marker'] = index_marker\n",
    "ind_df = pd.DataFrame.from_records(ind_results)\n",
    "ind_df.drop(columns = ['t'], inplace=True)\n",
    "ind_df = ind_df[['index_marker','date','o', 'c', 'h', 'l']]\n",
    "ind_df.rename(columns={'date':'date',\n",
    "                       'o':'open_price',\n",
    "                       'c':'close_price',\n",
    "                       'h':'highest_price',\n",
    "                       'l':'lowest_price'}, inplace=True)\n",
    "ind_df"
   ]
  },
  {
   "cell_type": "code",
   "execution_count": null,
   "metadata": {},
   "outputs": [],
   "source": [
    "# RUN ONCE .\n",
    "cursor.execute('''CREATE TABLE index_table(\n",
    "                index_id int PRIMARY KEY IDENTITY,\n",
    "                index_marker VARCHAR(6),\n",
    "                company VARCHAR(100))''')"
   ]
  },
  {
   "cell_type": "code",
   "execution_count": 61,
   "metadata": {},
   "outputs": [],
   "source": [
    "# RUN ONCE .\n",
    "cursor.execute('''INSERT INTO index_table \n",
    "                VALUES ('NDX','NASDAQ-100')''')\n",
    "cursor.execute('''INSERT INTO index_table \n",
    "                VALUES ('NDXT','NASDAQ-100 Technology Sector')''')"
   ]
  },
  {
   "cell_type": "code",
   "execution_count": null,
   "metadata": {},
   "outputs": [],
   "source": [
    "# RUN ONCE .\n",
    "cursor.execute('''CREATE TABLE market_index_growth(\n",
    "                market_id int PRIMARY KEY IDENTITY,\n",
    "                market_index_id INT FOREIGN KEY REFERENCES index_table(index_id),\n",
    "                market_index_date DATETIME,\n",
    "                market_open_value DECIMAL(18,5),\n",
    "                market_close_value DECIMAL(18,5),\n",
    "                market_highest_value DECIMAL(18,5),\n",
    "                market_lowest_value DECIMAL(18,5))''')\n",
    "cursor.execute('''CREATE TABLE price_index_growth(\n",
    "                price_id int PRIMARY KEY IDENTITY,\n",
    "                price_index_id INT FOREIGN KEY REFERENCES index_table(index_id),\n",
    "                price_index_date DATETIME,\n",
    "                price_open_value DECIMAL(18,5),\n",
    "                price_close_value DECIMAL(18,5),\n",
    "                price_highest_value DECIMAL(18,5),\n",
    "                price_lowest_value DECIMAL(18,5))''')"
   ]
  },
  {
   "cell_type": "code",
   "execution_count": 101,
   "metadata": {},
   "outputs": [],
   "source": [
    "# RUN ONCE .\n",
    "query = \"\"\"INSERT INTO market_index_growth\n",
    "        VALUES (\n",
    "            (SELECT index_id FROM index_table \n",
    "            WHERE index_marker = %s),\n",
    "            %s,\n",
    "            %s,\n",
    "            %s,\n",
    "            %s,\n",
    "            %s)\"\"\"\n",
    "cursor.executemany(query, ind_df.values.tolist())"
   ]
  },
  {
   "cell_type": "code",
   "execution_count": 102,
   "metadata": {},
   "outputs": [],
   "source": [
    "# RUN ONCE .\n",
    "cursor.execute(\"\"\"ALTER TABLE market_index_growth \n",
    "                ADD diff DECIMAL(18,5), percent_inc DECIMAL(18,2)\"\"\")"
   ]
  },
  {
   "cell_type": "code",
   "execution_count": null,
   "metadata": {},
   "outputs": [],
   "source": [
    "# RUN ONCE .\n",
    "cursor.execute('''ALTER TABLE market_index_growth ADD diff_from_avg_percent DECIMAL(18,5)''')\n",
    "cursor.execute('''ALTER TABLE price_index_growth ADD diff_from_avg_percent DECIMAL(18,5)''')"
   ]
  },
  {
   "cell_type": "code",
   "execution_count": 103,
   "metadata": {},
   "outputs": [],
   "source": [
    "# RUN ONCE .\n",
    "cursor.execute(\"\"\"UPDATE market_index_growth\n",
    "               SET diff = market_open_value - (SELECT TOP 1 market_open_value FROM market_index_growth)\"\"\")"
   ]
  },
  {
   "cell_type": "code",
   "execution_count": 104,
   "metadata": {},
   "outputs": [],
   "source": [
    "# RUN ONCE .\n",
    "cursor.execute(\"\"\"UPDATE market_index_growth\n",
    "               SET percent_inc = \n",
    "               CAST(diff AS DECIMAL(18,2))*100/(SELECT TOP 1 market_open_value FROM market_index_growth)\"\"\")"
   ]
  },
  {
   "cell_type": "code",
   "execution_count": 108,
   "metadata": {},
   "outputs": [],
   "source": [
    "# RUN ONCE .\n",
    "query = \"\"\"INSERT INTO price_index_growth\n",
    "        VALUES (\n",
    "            (SELECT index_id FROM index_table \n",
    "            WHERE index_marker = %s),\n",
    "            %s,\n",
    "            %s,\n",
    "            %s,\n",
    "            %s,\n",
    "            %s)\"\"\"\n",
    "cursor.executemany(query, ind_df.values.tolist())"
   ]
  },
  {
   "cell_type": "code",
   "execution_count": 109,
   "metadata": {},
   "outputs": [],
   "source": [
    "# RUN ONCE .\n",
    "cursor.execute(\"\"\"ALTER TABLE price_index_growth \n",
    "                ADD diff DECIMAL(18,5), percent_inc DECIMAL(18,2)\"\"\")\n",
    "cursor.execute(\"\"\"UPDATE price_index_growth\n",
    "               SET diff = price_open_value - (SELECT TOP 1 price_open_value FROM price_index_growth)\"\"\")\n",
    "cursor.execute(\"\"\"UPDATE price_index_growth\n",
    "               SET percent_inc = \n",
    "               CAST(diff AS DECIMAL(18,2))*100/(SELECT TOP 1 price_open_value FROM price_index_growth)\"\"\")"
   ]
  },
  {
   "cell_type": "code",
   "execution_count": 27,
   "metadata": {},
   "outputs": [],
   "source": [
    "# RUN ONCE .\n",
    "cursor.execute(\"\"\"UPDATE market_index_growth\n",
    "               SET diff_from_avg_percent = percent_inc-(SELECT AVG(percent_inc) FROM market_index_growth)\"\"\")\n",
    "\n",
    "cursor.execute(\"\"\"UPDATE price_index_growth\n",
    "               SET diff_from_avg_percent = percent_inc-(SELECT AVG(percent_inc) FROM price_index_growth)\"\"\")"
   ]
  },
  {
   "cell_type": "code",
   "execution_count": null,
   "metadata": {},
   "outputs": [],
   "source": [
    "conn.commit()"
   ]
  },
  {
   "cell_type": "markdown",
   "metadata": {},
   "source": [
    "### POPULATING INVESTMENT DATA"
   ]
  },
  {
   "cell_type": "code",
   "execution_count": 13,
   "metadata": {},
   "outputs": [],
   "source": [
    "# RUN ONCE .\n",
    "cursor.execute(''' CREATE TABLE investment_table(\n",
    "               investment_id INT PRIMARY KEY IDENTITY,\n",
    "               inv_amt INT,\n",
    "               inv_date DATETIME,\n",
    "               am_amount INT,\n",
    "               am_return DECIMAL (18,2),\n",
    "               bip_amount INT,\n",
    "               bip_return DECIMAL (18,2),\n",
    "               tesla_amount INT,\n",
    "               tesla_return DECIMAL (18,2),\n",
    "               netflix_amount INT,\n",
    "               netflix_return DECIMAL (18,2),\n",
    "               vti_amount INT,\n",
    "               vti_return DECIMAL(18,2),\n",
    "               vym_amount INT,\n",
    "               vym_return DECIMAL(18,2),\n",
    "               forex_amount INT,\n",
    "               forex_return DECIMAL(18,2),\n",
    "               total_return DECIMAL (18,2)\n",
    "               )''')"
   ]
  },
  {
   "cell_type": "code",
   "execution_count": 5,
   "metadata": {},
   "outputs": [],
   "source": [
    "# First investment entirely in stocks, beginning 2023 01 01\n",
    "#   am = 30 bip = 30 tesla = 10 netflix = 30 rest 0 bc they want to focus on stocks\n",
    "# Second investment trying to equal out the % given totally\n",
    "#   all at 15 except forex, which is at 10\n",
    "# Third investment marks a more informed stock decision based on number one\n",
    "#   Amazon, tesla, netflix, vti, and vym all at 20\n",
    "\n",
    "investment = 100000 \n",
    "percent_amazon = .30\n",
    "percent_bip = 0\n",
    "percent_tesla = 0\n",
    "percent_netflix = .30\n",
    "percent_vti = .30\n",
    "percent_vym = .10\n",
    "percent_forex = 0\n",
    "investment_date = datetime.date(2023,1,1)\n"
   ]
  },
  {
   "cell_type": "code",
   "execution_count": 6,
   "metadata": {},
   "outputs": [],
   "source": [
    "amazon_inv = investment*percent_amazon\n",
    "bip_inv = investment*percent_bip\n",
    "tesla_inv = investment*percent_tesla\n",
    "netflix_inv = investment*percent_netflix\n",
    "vti_inv = investment*percent_vti\n",
    "vym_inv = investment*percent_vym\n",
    "forex_inv = investment*percent_forex\n",
    "\n",
    "query_params = [investment, investment_date, amazon_inv, bip_inv, tesla_inv, netflix_inv, vti_inv, vym_inv, forex_inv]\n",
    "query = \"\"\"INSERT INTO investment_table(inv_amt, inv_date, am_amount, bip_amount, tesla_amount, netflix_amount,\n",
    "            vti_amount, vym_amount, forex_amount)\n",
    "            VALUES (%s, %s, %d, %d, %d, %d, %d, %d, %d)\"\"\"\n",
    "cursor.execute(query, query_params)\n",
    "\n",
    "cursor.execute(\"\"\"UPDATE investment_table\n",
    "                SET am_return = am_amount * (SELECT TOP 1 percen_inc/100\n",
    "                                          FROM amazon_price_over_time a\n",
    "                                          ORDER BY a.dates_date DESC)\"\"\")\n",
    "cursor.execute(\"\"\"UPDATE investment_table\n",
    "                SET bip_return = bip_amount * (SELECT TOP 1 percen_inc/100\n",
    "                                          FROM bip_price_over_time a\n",
    "                                          ORDER BY a.dates_date DESC)\"\"\")\n",
    "cursor.execute(\"\"\"UPDATE investment_table\n",
    "                SET tesla_return = tesla_amount * (SELECT TOP 1 percen_inc/100\n",
    "                                          FROM tesla_price_over_time a\n",
    "                                          ORDER BY a.dates_date DESC)\"\"\")\n",
    "cursor.execute(\"\"\"UPDATE investment_table\n",
    "                SET netflix_return = netflix_amount * (SELECT TOP 1 percen_inc/100\n",
    "                                          FROM netflix_price_over_time a\n",
    "                                          ORDER BY a.dates_date DESC)\"\"\")\n",
    "cursor.execute(\"\"\"UPDATE investment_table\n",
    "                SET vti_return = vti_amount * (SELECT TOP 1 percen_inc/100\n",
    "                                          FROM vti_prices_over_time a\n",
    "                                          ORDER BY a.dates_date DESC)\"\"\")\n",
    "cursor.execute(\"\"\"UPDATE investment_table\n",
    "                SET vym_return = vym_amount * (SELECT TOP 1 percen_inc/100\n",
    "                                          FROM vym_prices_over_time a\n",
    "                                          ORDER BY a.dates_date DESC)\"\"\")\n",
    "cursor.execute(\"\"\"UPDATE investment_table\n",
    "                SET forex_return = forex_amount * (SELECT TOP 1 forex_percent_inc/100\n",
    "                                          FROM forex_table a\n",
    "                                          ORDER BY a.forex_date DESC)\"\"\")\n",
    "cursor.execute(\"\"\"UPDATE investment_table\n",
    "                SET total_return = am_return+bip_return+tesla_return+netflix_return+\n",
    "                vti_return+vym_return+forex_return\"\"\")"
   ]
  },
  {
   "cell_type": "code",
   "execution_count": null,
   "metadata": {},
   "outputs": [],
   "source": [
    "cursor.execute(''' SELECT * from market_index_growth''')\n",
    "rows = cursor.fetchall()\n",
    "[print(row) for row in rows]"
   ]
  },
  {
   "cell_type": "code",
   "execution_count": 7,
   "metadata": {},
   "outputs": [],
   "source": [
    "conn.commit()"
   ]
  },
  {
   "cell_type": "markdown",
   "metadata": {},
   "source": [
    "### MOVING AVERAGES"
   ]
  },
  {
   "cell_type": "code",
   "execution_count": null,
   "metadata": {},
   "outputs": [],
   "source": [
    "# Sorry about the long query, but this displays all the hundred\n",
    "#   and ten day averages for all stocks and etfs, alongside indices\n",
    "cursor.execute(\"\"\"CREATE TABLE moving_averages(\n",
    "\tmoving_avg_id INT PRIMARY KEY IDENTITY,\n",
    "\tdates_date DATETIME, \n",
    "\tten_day_amazon DECIMAL(18,2),\n",
    "\thundred_day_amazon DECIMAL(18,2),\n",
    "\tten_day_bip DECIMAL(18,2),\n",
    "\thundred_day_bip DECIMAL(18,2),\n",
    "\tten_day_tesla DECIMAL(18,2),\n",
    "\thundred_day_tesla DECIMAL(18,2),\n",
    "\tten_day_netflix DECIMAL(18,2),\n",
    "\thundred_day_netflix DECIMAL(18,2),\n",
    "\tten_day_vti DECIMAL(18,2),\n",
    "\thundred_day_vti DECIMAL(18,2),\n",
    "\tten_day_vym DECIMAL(18,2),\n",
    "\thundred_day_vym DECIMAL(18,2),\n",
    "\tten_day_market DECIMAL(18,2),\n",
    "\thundred_day_market DECIMAL(18,2),\n",
    "\tten_day_price DECIMAL(18,2),\n",
    "\thundred_day_price DECIMAL(18,2)\n",
    ")\"\"\")\n",
    "\n",
    "cursor.execute(\"\"\"INSERT INTO moving_averages\n",
    "SELECT a.dates_date, \n",
    "AVG(a.open_price) OVER (ORDER BY a.dates_date ROWS BETWEEN 5 PRECEDING AND 4 FOLLOWING),\n",
    "AVG(a.open_price) OVER (ORDER BY a.dates_date ROWS BETWEEN 50 PRECEDING AND 49 FOLLOWING),\n",
    "AVG(b.open_price) OVER (ORDER BY a.dates_date ROWS BETWEEN 5 PRECEDING AND 4 FOLLOWING),\n",
    "AVG(b.open_price) OVER (ORDER BY a.dates_date ROWS BETWEEN 50 PRECEDING AND 49 FOLLOWING),\n",
    "AVG(t.open_price) OVER (ORDER BY a.dates_date ROWS BETWEEN 5 PRECEDING AND 4 FOLLOWING),\n",
    "AVG(t.open_price) OVER (ORDER BY a.dates_date ROWS BETWEEN 50 PRECEDING AND 49 FOLLOWING),\n",
    "AVG(n.open_price) OVER (ORDER BY a.dates_date ROWS BETWEEN 5 PRECEDING AND 4 FOLLOWING),\n",
    "AVG(n.open_price) OVER (ORDER BY a.dates_date ROWS BETWEEN 50 PRECEDING AND 49 FOLLOWING),\n",
    "AVG(vti.open_price) OVER (ORDER BY a.dates_date ROWS BETWEEN 5 PRECEDING AND 4 FOLLOWING), \n",
    "AVG(vti.open_price) OVER (ORDER BY a.dates_date ROWS BETWEEN 50 PRECEDING AND 49 FOLLOWING),\n",
    "AVG(vyu.open_price) OVER (ORDER BY a.dates_date ROWS BETWEEN 5 PRECEDING AND 4 FOLLOWING),\n",
    "AVG(vyu.open_price) OVER (ORDER BY a.dates_date ROWS BETWEEN 50 PRECEDING AND 49 FOLLOWING),\n",
    "AVG(market_open_value) OVER (ORDER BY a.dates_date ROWS BETWEEN 5 PRECEDING AND 4 FOLLOWING),\n",
    "AVG(market_open_value) OVER (ORDER BY a.dates_date ROWS BETWEEN 50 PRECEDING AND 49 FOLLOWING),\n",
    "AVG(price_open_value) OVER (ORDER BY a.dates_date ROWS BETWEEN 5 PRECEDING AND 4 FOLLOWING),\n",
    "AVG(price_open_value) OVER (ORDER BY a.dates_date ROWS BETWEEN 50 PRECEDING AND 49 FOLLOWING)\n",
    "FROM \n",
    "(amazon_price_over_time a JOIN bip_price_over_time b \n",
    "ON a.dates_date = b.dates_date\n",
    "JOIN tesla_price_over_time t ON a.dates_date = t.dates_date\n",
    "JOIN netflix_price_over_time n ON t.dates_date = n.dates_date\n",
    "JOIN vti_prices_over_time vti on vti.dates_date = n.dates_date\n",
    "JOIN vym_prices_over_time vyu ON vyu.dates_date = vti.dates_date\n",
    "JOIN market_index_growth m ON t.dates_date = m.market_index_date\n",
    "JOIN price_index_growth p ON p.price_index_date = m.market_index_date)\n",
    "\"\"\")"
   ]
  }
 ],
 "metadata": {
  "kernelspec": {
   "display_name": ".venv",
   "language": "python",
   "name": "python3"
  },
  "language_info": {
   "codemirror_mode": {
    "name": "ipython",
    "version": 3
   },
   "file_extension": ".py",
   "mimetype": "text/x-python",
   "name": "python",
   "nbconvert_exporter": "python",
   "pygments_lexer": "ipython3",
   "version": "3.12.4"
  }
 },
 "nbformat": 4,
 "nbformat_minor": 2
}
